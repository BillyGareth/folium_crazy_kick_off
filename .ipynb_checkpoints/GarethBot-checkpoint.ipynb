{
 "cells": [
  {
   "cell_type": "markdown",
   "metadata": {},
   "source": [
    "# <font color ='red'> Creation of a virtual Assistant in Python<font type='Calibri Body'>"
   ]
  },
  {
   "cell_type": "markdown",
   "metadata": {},
   "source": [
    "A Virtual Assistant- application that understands voice commands and complete tasks for a person"
   ]
  },
  {
   "cell_type": "markdown",
   "metadata": {},
   "source": [
    "# <font color='yellow'> Skip this if you already have the packages installed<font type='Elephant'>"
   ]
  },
  {
   "cell_type": "markdown",
   "metadata": {},
   "source": [
    "pip install wikipedia\n",
    "pip install pyaudio\n",
    "pip install SpeechRecognition\n",
    "pip install gTTS"
   ]
  },
  {
   "cell_type": "markdown",
   "metadata": {},
   "source": [
    "# <font color='blue'>Import required modules<font>"
   ]
  },
  {
   "cell_type": "code",
   "execution_count": 1,
   "metadata": {},
   "outputs": [],
   "source": [
    "import speech_recognition as sr"
   ]
  },
  {
   "cell_type": "code",
   "execution_count": 2,
   "metadata": {},
   "outputs": [],
   "source": [
    "import os"
   ]
  },
  {
   "cell_type": "code",
   "execution_count": 3,
   "metadata": {},
   "outputs": [],
   "source": [
    "from gtts import gTTS"
   ]
  },
  {
   "cell_type": "code",
   "execution_count": 4,
   "metadata": {},
   "outputs": [],
   "source": [
    "import datetime"
   ]
  },
  {
   "cell_type": "code",
   "execution_count": 5,
   "metadata": {},
   "outputs": [],
   "source": [
    "import warnings"
   ]
  },
  {
   "cell_type": "code",
   "execution_count": 6,
   "metadata": {},
   "outputs": [],
   "source": [
    "import random"
   ]
  },
  {
   "cell_type": "code",
   "execution_count": 7,
   "metadata": {},
   "outputs": [],
   "source": [
    "import wikipedia"
   ]
  },
  {
   "cell_type": "code",
   "execution_count": 8,
   "metadata": {},
   "outputs": [],
   "source": [
    "import calendar"
   ]
  },
  {
   "cell_type": "markdown",
   "metadata": {},
   "source": [
    "# <font color ='orange'> Now we build it's functionality<font>"
   ]
  },
  {
   "cell_type": "code",
   "execution_count": 9,
   "metadata": {},
   "outputs": [],
   "source": [
    "#ignores warning messages\n",
    "warnings.filterwarnings('ignore')"
   ]
  },
  {
   "cell_type": "code",
   "execution_count": 16,
   "metadata": {},
   "outputs": [],
   "source": [
    "#audio recording and returning as string\n",
    "def recordAudio():\n",
    "    \n",
    "    # create recognizer object\n",
    "    r=sr.Recognizer()\n",
    "    \n",
    "    #open microphone and begin recording\n",
    "    with sr.Microphone() as source:\n",
    "        print('Say something')\n",
    "        audio=r.listen(source)\n",
    "        \n",
    "    #using google speech recognition\n",
    "    data=''\n",
    "    try:\n",
    "        data=r.recognize_google(audio)\n",
    "        print('You said:' + data)\n",
    "    except sr.UnknownValueError:\n",
    "        print('Google Speech Recognition couldnot recognize the audio,unkknown error')\n",
    "    except sr.RequestError as e:\n",
    "        print('Request results from Google Speech Recognition service error'+ e)\n",
    "\n",
    "    return data\n",
    "\n"
   ]
  },
  {
   "cell_type": "code",
   "execution_count": 18,
   "metadata": {},
   "outputs": [],
   "source": [
    "#response from my v_ass.\n",
    "def assistantResponse(text):\n",
    "    print(text)\n",
    "    \n",
    "    myobj=gTTS(text='text',lang='en',slow=False)\n",
    "    \n",
    "    myobj.save('ass_res.mp3')\n",
    "    \n",
    "    os.system('start ass_res.mp3')\n",
    "    \n",
    "text='Princess Switch'\n"
   ]
  },
  {
   "cell_type": "code",
   "execution_count": 19,
   "metadata": {},
   "outputs": [
    {
     "data": {
      "text/plain": [
       "False"
      ]
     },
     "execution_count": 19,
     "metadata": {},
     "output_type": "execute_result"
    }
   ],
   "source": [
    "def wakeWord(text):\n",
    "    #list of wake_words\n",
    "    wake_words=['hey Billy','Ok Gareth']\n",
    "    \n",
    "    text=text.lower()\n",
    "    \n",
    "    #check for any of the wake_words\n",
    "    for phrase in wake_words:\n",
    "        if text in wake_words:\n",
    "            return True\n",
    "    \n",
    "    #if none\n",
    "    return False\n",
    "wakeWord(text)"
   ]
  }
 ],
 "metadata": {
  "kernelspec": {
   "display_name": "Python 3",
   "language": "python",
   "name": "python3"
  },
  "language_info": {
   "codemirror_mode": {
    "name": "ipython",
    "version": 3
   },
   "file_extension": ".py",
   "mimetype": "text/x-python",
   "name": "python",
   "nbconvert_exporter": "python",
   "pygments_lexer": "ipython3",
   "version": "3.7.4"
  }
 },
 "nbformat": 4,
 "nbformat_minor": 4
}
